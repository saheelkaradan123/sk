{
 "cells": [
  {
   "cell_type": "markdown",
   "metadata": {},
   "source": [
    "# Deep Learning Based Emotion Recognition with PyTorch\n",
    "\n",
    "![alt txt](img/emotion_classifier.png)\n",
    "\n",
    "In this notebook we are going to learn how to train deep neural networks, such as recurrent neural networks (RNNs), for addressing a natural language task known as **emotion recognition**. We will cover everything you need to know to get started with NLP using deep learning frameworks such as TensorFlow. We will cover the common best practices, functionalities, and steps you need to understand the basics of PyTorch APIs to build powerful predictive models via the computation graph. In the process of building our models, we will compare PyTorch and TensorFlow to let the learner appreciate the strenghts of each tool.\n",
    "\n",
    "by saheel"
   ]
  },
  {
   "cell_type": "markdown",
   "metadata": {},
   "source": [
    "---"
   ]
  },
  {
   "cell_type": "markdown",
   "metadata": {},
   "source": [
    "## Outline\n",
    "1. Deep Learning Frameworks\n",
    "     - 1.1 Eager execution\n",
    "     - 1.2 Computation graph\n",
    "2. Tensors\n",
    "    - 2.1 Basic math with tensors\n",
    "    - 2.2 Transforming tensors\n",
    "3. Data\n",
    "    - 3.1 Preprocessing data\n",
    "        - Tokenization and Sampling\n",
    "        - Constructing Vocabulary and Index-Word Mapping\n",
    "    - 3.2 Converting data into tensors\n",
    "    - 3.3 Padding data\n",
    "    - 3.4 Binarization\n",
    "    - 3.5 Split data\n",
    "    - 3.6 Data Loader\n",
    "4. Model\n",
    "    - 4.1 Pretesting Model\n",
    "    - 4.2 Testing models with eager execution\n",
    "5. Training\n",
    "6. Evaluation on Testing Dataset\n",
    "    - 6.1 Confusion matrix\n",
    "- Final Words\n",
    "- References\n",
    "- *Storing models and setting checkpoints (Exercise)*\n",
    "- *Restoring models (Exercise)*"
   ]
  },
  {
   "cell_type": "markdown",
   "metadata": {},
   "source": [
    "---"
   ]
  },
  {
   "cell_type": "markdown",
   "metadata": {},
   "source": [
    "## 1. Deep Learning Frameworks\n",
    "There are many deep learning frameworks such as Chainer, DyNet, MXNet, PyTorch, TensorFlow, and Keras. Each framework has their own strenghts which a researcher or a developer may want to consider before choosing the right framework. In my opinion, PyTorch is great for researchers and offers eager execution by default, but its high-level APIs require some understanding of deep learning concepts such as **affine layers** and **automatic differentiation**. On the other hand, TensorFlow was originally built as a low-level API that provides a robust list of functionalities to build deep learning models from the ground up. More recently, TensorFlow also offers **eager execution** and is equipped with a high-level API known as Keras.\n",
    "\n",
    "![alt txt](img/dl_frameworks.png)"
   ]
  },
  {
   "cell_type": "markdown",
   "metadata": {},
   "source": [
    "### 1.1 Eager Execution\n",
    "Eager execution allows us to operate on the computation graph dynamically, also known as **imperative programming**. TensorFlow requires that you manually set this mode, while PyTorch comes with this mode by default. Below we import the necessary libraries to use PyTorch."
   ]
  },
  {
   "cell_type": "code",
   "execution_count": 1,
   "metadata": {},
   "outputs": [],
   "source": [
    "import torch\n",
    "import torch.functional as F\n",
    "import torch.nn as nn\n",
    "import torch.optim as optim\n",
    "from torch.nn.utils.rnn import pack_padded_sequence, pad_packed_sequence"
   ]
  },
  {
   "cell_type": "markdown",
   "metadata": {},
   "source": [
    "### 1.2 Computation Graph\n",
    "A simplified definition of a neural network is a string of functions that are **differentiable** and that we can combine together to get more complicated functions. An intuitive way to express this process is through computation graphs. \n",
    "\n",
    "![alt txt](http://colah.github.io/posts/2015-08-Backprop/img/tree-eval-derivs.png)\n",
    "\n",
    "Image credit: [Chris Olah](http://colah.github.io/posts/2015-08-Backprop/)"
   ]
  },
  {
   "cell_type": "markdown",
   "metadata": {},
   "source": [
    "## 2. Tensors\n",
    "Tensors are the fundamental data structure used to store data that will be fed as input to a computation graph for processing and applying tranformations. Let's create two tensors and multiply them, and then output the result. The figure below shows a 4-D Tensor.\n",
    "\n",
    "![alt txt](img/tensor.png)"
   ]
  },
  {
   "cell_type": "code",
   "execution_count": 62,
   "metadata": {},
   "outputs": [
    {
     "name": "stdout",
     "output_type": "stream",
     "text": [
      "tensor([[1., 3.],\n",
      "        [3., 7.]])\n",
      "torch.Size([2, 2])\n"
     ]
    }
   ],
   "source": [
    "c = torch.tensor([[1.0, 2.0], [3.0, 4.0]])\n",
    "d = torch.tensor([[1.0, 1.0], [0.0, 1.0]])\n",
    "e = torch.matmul(c, d)\n",
    "print(e)\n",
    "print(c.size())"
   ]
  },
  {
   "cell_type": "markdown",
   "metadata": {},
   "source": [
    "### 2.1 Math with Tensors\n",
    "PyTorch and other deep learning libraries like TensorFlow allow you to do **automatic differentation**. Let's try to compute the derivative of a function -- in this case that function is stored in the variable `z`. In PyTorch, the option `requires_grad=True` tracks all operations applied to the input tensor. "
   ]
  },
  {
   "cell_type": "code",
   "execution_count": 3,
   "metadata": {},
   "outputs": [
    {
     "name": "stdout",
     "output_type": "stream",
     "text": [
      "tensor(27., grad_fn=<MeanBackward1>)\n",
      "tensor([[4.5000, 4.5000],\n",
      "        [4.5000, 4.5000]])\n"
     ]
    }
   ],
   "source": [
    "### Automatic differentiation with PyTorch\n",
    "x = torch.ones(2, 2, requires_grad=True)\n",
    "\n",
    "# an operation of tensor\n",
    "y = x + 2 # y inherits grad_fn\n",
    "\n",
    "# apply operations on y\n",
    "z = y * y * 3\n",
    "out = z.mean()\n",
    "\n",
    "print(out)\n",
    "\n",
    "out.backward()\n",
    "\n",
    "print(x.grad) # d(out)/dx"
   ]
  },
  {
   "cell_type": "markdown",
   "metadata": {},
   "source": [
    "You can verfiy the output with the equations in the figure below:\n",
    "\n",
    "![alt txt](img/autograd.jpg)"
   ]
  },
  {
   "cell_type": "markdown",
   "metadata": {},
   "source": [
    "### 2.2 Transforming Tensors\n",
    "We can also apply some transformation to a tensor such as adding a dimension or transposing it. Let's try both adding a dimension and transposing a matrix below."
   ]
  },
  {
   "cell_type": "code",
   "execution_count": 63,
   "metadata": {},
   "outputs": [
    {
     "name": "stdout",
     "output_type": "stream",
     "text": [
      "X shape:  torch.Size([2, 3])\n",
      "torch.Size([2, 1, 3])\n"
     ]
    },
    {
     "data": {
      "text/plain": [
       "tensor([[1, 4],\n",
       "        [2, 5],\n",
       "        [3, 6]])"
      ]
     },
     "execution_count": 63,
     "metadata": {},
     "output_type": "execute_result"
    }
   ],
   "source": [
    "x = torch.tensor([[1, 2, 3], [4, 5, 6]])\n",
    "print(\"X shape: \", x.size())\n",
    "\n",
    "# add dimension\n",
    "print(x.unsqueeze(1).size()) \n",
    "\n",
    "# transpose \n",
    "torch.transpose(x, 0,1)"
   ]
  },
  {
   "cell_type": "markdown",
   "metadata": {},
   "source": [
    "## 3. Emotion Dataset\n",
    "In this notebook we are working on an emotion classification task. We are using the public emotion dataset provided [here](https://github.com/huseinzol05/NLP-Dataset/tree/master/emotion-english). The dataset contains tweets labeled into 6 categories."
   ]
  },
  {
   "cell_type": "code",
   "execution_count": 5,
   "metadata": {},
   "outputs": [],
   "source": [
    "import re\n",
    "import numpy as np\n",
    "import time\n",
    "import helpers.pickle_helpers as ph\n",
    "from sklearn import preprocessing\n",
    "from sklearn.model_selection import train_test_split\n",
    "import matplotlib.pyplot as plt\n",
    "%matplotlib inline"
   ]
  },
  {
   "cell_type": "code",
   "execution_count": 6,
   "metadata": {},
   "outputs": [
    {
     "data": {
      "text/plain": [
       "<matplotlib.axes._subplots.AxesSubplot at 0x7f2a33135b70>"
      ]
     },
     "execution_count": 6,
     "metadata": {},
     "output_type": "execute_result"
    },
    {
     "data": {
      "image/png": "[encoded data removed]",
      "text/plain": [
       "<Figure size 432x288 with 1 Axes>"
      ]
     },
     "metadata": {},
     "output_type": "display_data"
    }
   ],
   "source": [
    "# load data\n",
    "data = ph.load_from_pickle(directory=\"data/merged_training.pkl\")\n",
    "data.emotions.value_counts().plot.bar()"
   ]
  },
  {
   "cell_type": "code",
   "execution_count": 7,
   "metadata": {},
   "outputs": [
    {
     "data": {
      "text/html": [
       "<div>\n",
       "<style scoped>\n",
       "    .dataframe tbody tr th:only-of-type {\n",
       "        vertical-align: middle;\n",
       "    }\n",
       "\n",
       "    .dataframe tbody tr th {\n",
       "        vertical-align: top;\n",
       "    }\n",
       "\n",
       "    .dataframe thead th {\n",
       "        text-align: right;\n",
       "    }\n",
       "</style>\n",
       "<table border=\"1\" class=\"dataframe\">\n",
       "  <thead>\n",
       "    <tr style=\"text-align: right;\">\n",
       "      <th></th>\n",
       "      <th>text</th>\n",
       "      <th>emotions</th>\n",
       "    </tr>\n",
       "  </thead>\n",
       "  <tbody>\n",
       "    <tr>\n",
       "      <th>27383</th>\n",
       "      <td>i feel awful about it too because it s my job ...</td>\n",
       "      <td>sadness</td>\n",
       "    </tr>\n",
       "    <tr>\n",
       "      <th>110083</th>\n",
       "      <td>im alone i feel awful</td>\n",
       "      <td>sadness</td>\n",
       "    </tr>\n",
       "    <tr>\n",
       "      <th>140764</th>\n",
       "      <td>ive probably mentioned this before but i reall...</td>\n",
       "      <td>joy</td>\n",
       "    </tr>\n",
       "    <tr>\n",
       "      <th>100071</th>\n",
       "      <td>i was feeling a little low few days back</td>\n",
       "      <td>sadness</td>\n",
       "    </tr>\n",
       "    <tr>\n",
       "      <th>2837</th>\n",
       "      <td>i beleive that i am much more sensitive to oth...</td>\n",
       "      <td>love</td>\n",
       "    </tr>\n",
       "    <tr>\n",
       "      <th>18231</th>\n",
       "      <td>i find myself frustrated with christians becau...</td>\n",
       "      <td>love</td>\n",
       "    </tr>\n",
       "    <tr>\n",
       "      <th>10714</th>\n",
       "      <td>i am one of those people who feels like going ...</td>\n",
       "      <td>joy</td>\n",
       "    </tr>\n",
       "    <tr>\n",
       "      <th>35177</th>\n",
       "      <td>i feel especially pleased about this as this h...</td>\n",
       "      <td>joy</td>\n",
       "    </tr>\n",
       "    <tr>\n",
       "      <th>122177</th>\n",
       "      <td>i was struggling with these awful feelings and...</td>\n",
       "      <td>joy</td>\n",
       "    </tr>\n",
       "    <tr>\n",
       "      <th>26723</th>\n",
       "      <td>i feel so enraged but helpless at the same time</td>\n",
       "      <td>anger</td>\n",
       "    </tr>\n",
       "  </tbody>\n",
       "</table>\n",
       "</div>"
      ],
      "text/plain": [
       "                                                     text emotions\n",
       "27383   i feel awful about it too because it s my job ...  sadness\n",
       "110083                              im alone i feel awful  sadness\n",
       "140764  ive probably mentioned this before but i reall...      joy\n",
       "100071           i was feeling a little low few days back  sadness\n",
       "2837    i beleive that i am much more sensitive to oth...     love\n",
       "18231   i find myself frustrated with christians becau...     love\n",
       "10714   i am one of those people who feels like going ...      joy\n",
       "35177   i feel especially pleased about this as this h...      joy\n",
       "122177  i was struggling with these awful feelings and...      joy\n",
       "26723     i feel so enraged but helpless at the same time    anger"
      ]
     },
     "execution_count": 7,
     "metadata": {},
     "output_type": "execute_result"
    }
   ],
   "source": [
    "data.head(10)"
   ]
  },
  {
   "cell_type": "markdown",
   "metadata": {},
   "source": [
    "### 3.1 Preprocessing Data\n",
    "In the next steps we are going to create tokenize the text, create index mapping for words, and also construct a vocabulary. "
   ]
  },
  {
   "cell_type": "markdown",
   "metadata": {},
   "source": [
    "#### Tokenization and Sampling"
   ]
  },
  {
   "cell_type": "code",
   "execution_count": 8,
   "metadata": {},
   "outputs": [],
   "source": [
    "# retain only text that contain less that 70 tokens to avoid too much padding\n",
    "data[\"token_size\"] = data[\"text\"].apply(lambda x: len(x.split(' ')))\n",
    "data = data.loc[data['token_size'] < 70].copy()\n",
    "\n",
    "# sampling\n",
    "data = data.sample(n=50000);"
   ]
  },
  {
   "cell_type": "markdown",
   "metadata": {},
   "source": [
    "#### Constructing Vocabulary and Index-Word Mapping"
   ]
  },
  {
   "cell_type": "code",
   "execution_count": 9,
   "metadata": {},
   "outputs": [],
   "source": [
    "# This class creates a word -> index mapping (e.g,. \"dad\" -> 5) and vice-versa \n",
    "# (e.g., 5 -> \"dad\") for the dataset\n",
    "class ConstructVocab():\n",
    "    def __init__(self, sentences):\n",
    "        self.sentences = sentences\n",
    "        self.word2idx = {}\n",
    "        self.idx2word = {}\n",
    "        self.vocab = set()\n",
    "        self.create_index()\n",
    "        \n",
    "    def create_index(self):\n",
    "        for s in self.sentences:\n",
    "            # update with individual tokens\n",
    "            self.vocab.update(s.split(' '))\n",
    "            \n",
    "        # sort the vocab\n",
    "        self.vocab = sorted(self.vocab)\n",
    "\n",
    "        # add a padding token with index 0\n",
    "        self.word2idx['<pad>'] = 0\n",
    "        \n",
    "        # word to index mapping\n",
    "        for index, word in enumerate(self.vocab):\n",
    "            self.word2idx[word] = index + 1 # +1 because of pad token\n",
    "        \n",
    "        # index to word mapping\n",
    "        for word, index in self.word2idx.items():\n",
    "            self.idx2word[index] = word  "
   ]
  },
  {
   "cell_type": "code",
   "execution_count": 10,
   "metadata": {},
   "outputs": [
    {
     "data": {
      "text/plain": [
       "['a',\n",
       " 'aa',\n",
       " 'aaaaah',\n",
       " 'aaaaall',\n",
       " 'aaaah',\n",
       " 'aaaahhhhhh',\n",
       " 'aacc',\n",
       " 'aactually',\n",
       " 'aahhh',\n",
       " 'aand']"
      ]
     },
     "execution_count": 10,
     "metadata": {},
     "output_type": "execute_result"
    }
   ],
   "source": [
    "# construct vocab and indexing\n",
    "inputs = ConstructVocab(data[\"text\"].values.tolist())\n",
    "\n",
    "# examples of what is in the vocab\n",
    "inputs.vocab[0:10]"
   ]
  },
  {
   "cell_type": "markdown",
   "metadata": {},
   "source": [
    "### 3.2 Converting Data into Tensors \n",
    "For convenience we would like to convert the data into tensors. "
   ]
  },
  {
   "cell_type": "code",
   "execution_count": 11,
   "metadata": {},
   "outputs": [],
   "source": [
    "# vectorize to tensor\n",
    "input_tensor = [[inputs.word2idx[s] for s in es.split(' ')]  for es in data[\"text\"].values.tolist()]"
   ]
  },
  {
   "cell_type": "code",
   "execution_count": 12,
   "metadata": {},
   "outputs": [
    {
     "data": {
      "text/plain": [
       "[[11528,\n",
       "  10491,\n",
       "  1,\n",
       "  11315,\n",
       "  24608,\n",
       "  4157,\n",
       "  27080,\n",
       "  26509,\n",
       "  26654,\n",
       "  10919,\n",
       "  14678,\n",
       "  8671,\n",
       "  1,\n",
       "  13884,\n",
       "  13654,\n",
       "  22962,\n",
       "  26747,\n",
       "  24020,\n",
       "  23807,\n",
       "  11528,\n",
       "  13548],\n",
       " [11528,\n",
       "  24505,\n",
       "  874,\n",
       "  24952,\n",
       "  13438,\n",
       "  16044,\n",
       "  19749,\n",
       "  8074,\n",
       "  15315,\n",
       "  11804,\n",
       "  15673,\n",
       "  10783,\n",
       "  24883,\n",
       "  24377,\n",
       "  8823,\n",
       "  16724,\n",
       "  26470,\n",
       "  10631,\n",
       "  874,\n",
       "  12905,\n",
       "  27064,\n",
       "  9201,\n",
       "  24020,\n",
       "  8686,\n",
       "  16417,\n",
       "  11463,\n",
       "  874,\n",
       "  6513,\n",
       "  24377,\n",
       "  10021,\n",
       "  26323,\n",
       "  11528,\n",
       "  17843,\n",
       "  26747,\n",
       "  15673,\n",
       "  10031,\n",
       "  24377,\n",
       "  9371,\n",
       "  14678,\n",
       "  9371,\n",
       "  14678,\n",
       "  9466,\n",
       "  24020,\n",
       "  16975]]"
      ]
     },
     "execution_count": 12,
     "metadata": {},
     "output_type": "execute_result"
    }
   ],
   "source": [
    "# examples of what is in the input tensors\n",
    "input_tensor[0:2]"
   ]
  },
  {
   "cell_type": "markdown",
   "metadata": {},
   "source": [
    "### 3.3 Padding data\n",
    "In order to train our recurrent neural network later on in the notebook, it is required padding to generate inputs of same length."
   ]
  },
  {
   "cell_type": "code",
   "execution_count": 13,
   "metadata": {},
   "outputs": [],
   "source": [
    "def max_length(tensor):\n",
    "    return max(len(t) for t in tensor)"
   ]
  },
  {
   "cell_type": "code",
   "execution_count": 14,
   "metadata": {},
   "outputs": [
    {
     "name": "stdout",
     "output_type": "stream",
     "text": [
      "69\n"
     ]
    }
   ],
   "source": [
    "# calculate the max_length of input tensor\n",
    "max_length_inp = max_length(input_tensor)\n",
    "print(max_length_inp)"
   ]
  },
  {
   "cell_type": "code",
   "execution_count": 15,
   "metadata": {},
   "outputs": [],
   "source": [
    "def pad_sequences(x, max_len):\n",
    "    padded = np.zeros((max_len), dtype=np.int64)\n",
    "    if len(x) > max_len: padded[:] = x[:max_len]\n",
    "    else: padded[:len(x)] = x\n",
    "    return padded"
   ]
  },
  {
   "cell_type": "code",
   "execution_count": 16,
   "metadata": {},
   "outputs": [],
   "source": [
    "# inplace padding\n",
    "input_tensor = [pad_sequences(x, max_length_inp) for x in input_tensor]"
   ]
  },
  {
   "cell_type": "code",
   "execution_count": 17,
   "metadata": {},
   "outputs": [
    {
     "data": {
      "text/plain": [
       "[array([11528, 10491,     1, 11315, 24608,  4157, 27080, 26509, 26654,\n",
       "        10919, 14678,  8671,     1, 13884, 13654, 22962, 26747, 24020,\n",
       "        23807, 11528, 13548,     0,     0,     0,     0,     0,     0,\n",
       "            0,     0,     0,     0,     0,     0,     0,     0,     0,\n",
       "            0,     0,     0,     0,     0,     0,     0,     0,     0,\n",
       "            0,     0,     0,     0,     0,     0,     0,     0,     0,\n",
       "            0,     0,     0,     0,     0,     0,     0,     0,     0,\n",
       "            0,     0,     0,     0,     0,     0]),\n",
       " array([11528, 24505,   874, 24952, 13438, 16044, 19749,  8074, 15315,\n",
       "        11804, 15673, 10783, 24883, 24377,  8823, 16724, 26470, 10631,\n",
       "          874, 12905, 27064,  9201, 24020,  8686, 16417, 11463,   874,\n",
       "         6513, 24377, 10021, 26323, 11528, 17843, 26747, 15673, 10031,\n",
       "        24377,  9371, 14678,  9371, 14678,  9466, 24020, 16975,     0,\n",
       "            0,     0,     0,     0,     0,     0,     0,     0,     0,\n",
       "            0,     0,     0,     0,     0,     0,     0,     0,     0,\n",
       "            0,     0,     0,     0,     0,     0])]"
      ]
     },
     "execution_count": 17,
     "metadata": {},
     "output_type": "execute_result"
    }
   ],
   "source": [
    "input_tensor[0:2]"
   ]
  },
  {
   "cell_type": "markdown",
   "metadata": {},
   "source": [
    "### 3.4 Binarization\n",
    "We would like to binarize our target so that we can obtain one-hot encodings as target values. These are easier and more efficient to work with and will be useful when training the models."
   ]
  },
  {
   "cell_type": "code",
   "execution_count": 18,
   "metadata": {},
   "outputs": [],
   "source": [
    "### convert targets to one-hot encoding vectors\n",
    "emotions = list(set(data.emotions.unique()))\n",
    "num_emotions = len(emotions)\n",
    "# binarizer\n",
    "mlb = preprocessing.MultiLabelBinarizer()\n",
    "data_labels =  [set(emos) & set(emotions) for emos in data[['emotions']].values]\n",
    "bin_emotions = mlb.fit_transform(data_labels)\n",
    "target_tensor = np.array(bin_emotions.tolist())"
   ]
  },
  {
   "cell_type": "code",
   "execution_count": 19,
   "metadata": {},
   "outputs": [
    {
     "data": {
      "text/plain": [
       "array([[1, 0, 0, 0, 0, 0],\n",
       "       [0, 0, 0, 0, 1, 0]])"
      ]
     },
     "execution_count": 19,
     "metadata": {},
     "output_type": "execute_result"
    }
   ],
   "source": [
    "target_tensor[0:2] "
   ]
  },
  {
   "cell_type": "code",
   "execution_count": 20,
   "metadata": {},
   "outputs": [
    {
     "data": {
      "text/html": [
       "<div>\n",
       "<style scoped>\n",
       "    .dataframe tbody tr th:only-of-type {\n",
       "        vertical-align: middle;\n",
       "    }\n",
       "\n",
       "    .dataframe tbody tr th {\n",
       "        vertical-align: top;\n",
       "    }\n",
       "\n",
       "    .dataframe thead th {\n",
       "        text-align: right;\n",
       "    }\n",
       "</style>\n",
       "<table border=\"1\" class=\"dataframe\">\n",
       "  <thead>\n",
       "    <tr style=\"text-align: right;\">\n",
       "      <th></th>\n",
       "      <th>text</th>\n",
       "      <th>emotions</th>\n",
       "      <th>token_size</th>\n",
       "    </tr>\n",
       "  </thead>\n",
       "  <tbody>\n",
       "    <tr>\n",
       "      <th>32384</th>\n",
       "      <td>i had a hour training class yesterday which wi...</td>\n",
       "      <td>anger</td>\n",
       "      <td>21</td>\n",
       "    </tr>\n",
       "    <tr>\n",
       "      <th>96194</th>\n",
       "      <td>i tossed and turned last night replaying every...</td>\n",
       "      <td>sadness</td>\n",
       "      <td>44</td>\n",
       "    </tr>\n",
       "  </tbody>\n",
       "</table>\n",
       "</div>"
      ],
      "text/plain": [
       "                                                    text emotions  token_size\n",
       "32384  i had a hour training class yesterday which wi...    anger          21\n",
       "96194  i tossed and turned last night replaying every...  sadness          44"
      ]
     },
     "execution_count": 20,
     "metadata": {},
     "output_type": "execute_result"
    }
   ],
   "source": [
    "data[0:2]"
   ]
  },
  {
   "cell_type": "code",
   "execution_count": 21,
   "metadata": {},
   "outputs": [],
   "source": [
    "get_emotion = lambda t: np.argmax(t)"
   ]
  },
  {
   "cell_type": "code",
   "execution_count": 22,
   "metadata": {},
   "outputs": [
    {
     "data": {
      "text/plain": [
       "0"
      ]
     },
     "execution_count": 22,
     "metadata": {},
     "output_type": "execute_result"
    }
   ],
   "source": [
    "get_emotion(target_tensor[0])"
   ]
  },
  {
   "cell_type": "code",
   "execution_count": 23,
   "metadata": {},
   "outputs": [],
   "source": [
    "emotion_dict = {0: 'anger', 1: 'fear', 2: 'joy', 3: 'love', 4: 'sadness', 5: 'surprise'}"
   ]
  },
  {
   "cell_type": "code",
   "execution_count": 24,
   "metadata": {},
   "outputs": [
    {
     "data": {
      "text/plain": [
       "'anger'"
      ]
     },
     "execution_count": 24,
     "metadata": {},
     "output_type": "execute_result"
    }
   ],
   "source": [
    "emotion_dict[get_emotion(target_tensor[0])]"
   ]
  },
  {
   "cell_type": "markdown",
   "metadata": {},
   "source": [
    "### 3.5 Split data\n",
    "We would like to split our data into a train and validation set. In addition, we also want a holdout dataset (test set) for evaluating the models."
   ]
  },
  {
   "cell_type": "code",
   "execution_count": 25,
   "metadata": {},
   "outputs": [
    {
     "data": {
      "text/plain": [
       "(40000, 40000, 5000, 5000, 5000, 5000)"
      ]
     },
     "execution_count": 25,
     "metadata": {},
     "output_type": "execute_result"
    }
   ],
   "source": [
    "# Creating training and validation sets using an 80-20 split\n",
    "input_tensor_train, input_tensor_val, target_tensor_train, target_tensor_val = train_test_split(input_tensor, target_tensor, test_size=0.2)\n",
    "\n",
    "# Split the validataion further to obtain a holdout dataset (for testing) -- split 50:50\n",
    "input_tensor_val, input_tensor_test, target_tensor_val, target_tensor_test = train_test_split(input_tensor_val, target_tensor_val, test_size=0.5)\n",
    "\n",
    "# Show length\n",
    "len(input_tensor_train), len(target_tensor_train), len(input_tensor_val), len(target_tensor_val), len(input_tensor_test), len(target_tensor_test)"
   ]
  },
  {
   "cell_type": "markdown",
   "metadata": {},
   "source": [
    "### 3.6 Data Loader\n",
    "We can also laod the data into a data loader, which makes it easy to **manipulate the data**, **create batches**, and apply further **transformations**. In PyTorch we can use the `DataLoader` function."
   ]
  },
  {
   "cell_type": "code",
   "execution_count": 43,
   "metadata": {},
   "outputs": [],
   "source": [
    "TRAIN_BUFFER_SIZE = len(input_tensor_train)\n",
    "VAL_BUFFER_SIZE = len(input_tensor_val)\n",
    "TEST_BUFFER_SIZE = len(input_tensor_test)\n",
    "BATCH_SIZE = 64\n",
    "TRAIN_N_BATCH = TRAIN_BUFFER_SIZE // BATCH_SIZE\n",
    "VAL_N_BATCH = VAL_BUFFER_SIZE // BATCH_SIZE\n",
    "TEST_N_BATCH = TEST_BUFFER_SIZE // BATCH_SIZE\n",
    "\n",
    "embedding_dim = 256\n",
    "units = 1024\n",
    "vocab_inp_size = len(inputs.word2idx)\n",
    "target_size = num_emotions"
   ]
  },
  {
   "cell_type": "code",
   "execution_count": 27,
   "metadata": {},
   "outputs": [],
   "source": [
    "from torch.utils.data import Dataset, DataLoader"
   ]
  },
  {
   "cell_type": "code",
   "execution_count": 28,
   "metadata": {},
   "outputs": [],
   "source": [
    "# convert the data to tensors and pass to the Dataloader \n",
    "# to create an batch iterator\n",
    "\n",
    "class MyData(Dataset):\n",
    "    def __init__(self, X, y):\n",
    "        self.data = X\n",
    "        self.target = y\n",
    "        self.length = [ np.sum(1 - np.equal(x, 0)) for x in X]\n",
    "        \n",
    "    def __getitem__(self, index):\n",
    "        x = self.data[index]\n",
    "        y = self.target[index]\n",
    "        x_len = self.length[index]\n",
    "        return x, y, x_len\n",
    "    \n",
    "    def __len__(self):\n",
    "        return len(self.data)"
   ]
  },
  {
   "cell_type": "code",
   "execution_count": 29,
   "metadata": {},
   "outputs": [],
   "source": [
    "train_dataset = MyData(input_tensor_train, target_tensor_train)\n",
    "val_dataset = MyData(input_tensor_val, target_tensor_val)\n",
    "test_dataset = MyData(input_tensor_test, target_tensor_test)\n",
    "\n",
    "train_dataset = DataLoader(train_dataset, batch_size = BATCH_SIZE, \n",
    "                     drop_last=True,\n",
    "                     shuffle=True)\n",
    "val_dataset = DataLoader(val_dataset, batch_size = BATCH_SIZE, \n",
    "                     drop_last=True,\n",
    "                     shuffle=True)\n",
    "test_dataset = DataLoader(test_dataset, batch_size = BATCH_SIZE, \n",
    "                     drop_last=True,\n",
    "                     shuffle=True)"
   ]
  },
  {
   "cell_type": "code",
   "execution_count": 30,
   "metadata": {},
   "outputs": [
    {
     "data": {
      "text/plain": [
       "64"
      ]
     },
     "execution_count": 30,
     "metadata": {},
     "output_type": "execute_result"
    }
   ],
   "source": [
    "val_dataset.batch_size"
   ]
  },
  {
   "cell_type": "markdown",
   "metadata": {},
   "source": [
    "## 4. Model\n",
    "After the data has been preprocessed, transformed and prepared it is now time to construct the model or the so-called computation graph that will be used to train our classification models. We are going to use a gated recurrent neural network (GRU), which is considered a more efficient version of a basic RNN. The figure below shows a high-level overview of the model details. \n",
    "\n",
    "![alt txt](img/gru-model.png)"
   ]
  },
  {
   "cell_type": "markdown",
   "metadata": {},
   "source": [
    "### 4.1 Constructing the Model\n",
    "Below we construct our model:"
   ]
  },
  {
   "cell_type": "code",
   "execution_count": 31,
   "metadata": {},
   "outputs": [],
   "source": [
    "class EmoGRU(nn.Module):\n",
    "    def __init__(self, vocab_size, embedding_dim, hidden_units, batch_sz, output_size):\n",
    "        super(EmoGRU, self).__init__()\n",
    "        self.batch_sz = batch_sz\n",
    "        self.hidden_units = hidden_units\n",
    "        self.embedding_dim = embedding_dim\n",
    "        self.vocab_size = vocab_size\n",
    "        self.output_size = output_size\n",
    "        \n",
    "        # layers\n",
    "        self.embedding = nn.Embedding(self.vocab_size, self.embedding_dim)\n",
    "        self.dropout = nn.Dropout(p=0.5)\n",
    "        self.gru = nn.GRU(self.embedding_dim, self.hidden_units)\n",
    "        self.fc = nn.Linear(self.hidden_units, self.output_size)\n",
    "    \n",
    "    def initialize_hidden_state(self, device):\n",
    "        return torch.zeros((1, self.batch_sz, self.hidden_units)).to(device)\n",
    "    \n",
    "    def forward(self, x, lens, device):\n",
    "        x = self.embedding(x)\n",
    "        self.hidden = self.initialize_hidden_state(device)\n",
    "        output, self.hidden = self.gru(x, self.hidden) # max_len X batch_size X hidden_units\n",
    "        out = output[-1, :, :] \n",
    "        out = self.dropout(out)\n",
    "        out = self.fc(out)\n",
    "        return out, self.hidden  "
   ]
  },
  {
   "cell_type": "markdown",
   "metadata": {},
   "source": [
    "### 4.2 Pretesting model\n",
    "Since eager execution is enabled we can print the output of the model by passing a sample of the dataset and making sure that the dimensions of the outputs are the expected ones."
   ]
  },
  {
   "cell_type": "code",
   "execution_count": 32,
   "metadata": {},
   "outputs": [],
   "source": [
    "### sort batch function to be able to use with pad_packed_sequence\n",
    "def sort_batch(X, y, lengths):\n",
    "    lengths, indx = lengths.sort(dim=0, descending=True)\n",
    "    X = X[indx]\n",
    "    y = y[indx]\n",
    "    return X.transpose(0,1), y, lengths # transpose (batch x seq) to (seq x batch)"
   ]
  },
  {
   "cell_type": "code",
   "execution_count": 33,
   "metadata": {},
   "outputs": [
    {
     "name": "stdout",
     "output_type": "stream",
     "text": [
      "Input size:  torch.Size([69, 64])\n",
      "torch.Size([64, 6])\n"
     ]
    }
   ],
   "source": [
    "device = torch.device(\"cuda:0\" if torch.cuda.is_available() else \"cpu\")\n",
    "model = EmoGRU(vocab_inp_size, embedding_dim, units, BATCH_SIZE, target_size)\n",
    "model.to(device)\n",
    "\n",
    "# obtain one sample from the data iterator\n",
    "it = iter(train_dataset)\n",
    "x, y, x_len = next(it)\n",
    "\n",
    "# sort the batch first to be able to use with pac_pack sequence\n",
    "xs, ys, lens = sort_batch(x, y, x_len)\n",
    "\n",
    "print(\"Input size: \", xs.size())\n",
    "\n",
    "output, _ = model(xs.to(device), lens, device)\n",
    "print(output.size())"
   ]
  },
  {
   "cell_type": "markdown",
   "metadata": {},
   "source": [
    "## 5. Training the Model\n",
    "Now that we have tested the model, it is time to train it. We will define out optimization algorithm, learnin rate, and other necessary information to train the model."
   ]
  },
  {
   "cell_type": "code",
   "execution_count": 34,
   "metadata": {},
   "outputs": [],
   "source": [
    "### Enabling cuda\n",
    "use_cuda = True if torch.cuda.is_available() else False\n",
    "device = torch.device(\"cuda\" if use_cuda else \"cpu\")\n",
    "model = EmoGRU(vocab_inp_size, embedding_dim, units, BATCH_SIZE, target_size)\n",
    "model.to(device)\n",
    "\n",
    "### loss criterion and optimizer for training\n",
    "criterion = nn.CrossEntropyLoss() # the same as log_softmax + NLLLoss\n",
    "optimizer = torch.optim.Adam(model.parameters())\n",
    "\n",
    "def loss_function(y, prediction):\n",
    "    \"\"\" CrossEntropyLoss expects outputs and class indices as target \"\"\"\n",
    "    # convert from one-hot encoding to class indices\n",
    "    target = torch.max(y, 1)[1]\n",
    "    loss = criterion(prediction, target) \n",
    "    return loss   #TODO: refer the parameter of these functions as the same\n",
    "    \n",
    "def accuracy(target, logit):\n",
    "    ''' Obtain accuracy for training round '''\n",
    "    target = torch.max(target, 1)[1] # convert from one-hot encoding to class indices\n",
    "    corrects = (torch.max(logit, 1)[1].data == target).sum()\n",
    "    accuracy = 100.0 * corrects / len(logit)\n",
    "    return accuracy"
   ]
  },
  {
   "cell_type": "code",
   "execution_count": 35,
   "metadata": {},
   "outputs": [
    {
     "name": "stdout",
     "output_type": "stream",
     "text": [
      "Epoch 1 Batch 0 Val. Loss 0.3175\n",
      "Epoch 1 Batch 100 Val. Loss 0.2581\n",
      "Epoch 1 Batch 200 Val. Loss 0.2224\n",
      "Epoch 1 Batch 300 Val. Loss 0.1014\n",
      "Epoch 1 Batch 400 Val. Loss 0.0296\n",
      "Epoch 1 Batch 500 Val. Loss 0.0396\n",
      "Epoch 1 Batch 600 Val. Loss 0.0250\n",
      "Epoch 1 Loss 0.1402 -- Train Acc. 67.0000 -- Val Acc. 90.0000\n",
      "Time taken for 1 epoch 34.237648725509644 sec\n",
      "\n",
      "Epoch 2 Batch 0 Val. Loss 0.0392\n",
      "Epoch 2 Batch 100 Val. Loss 0.0551\n",
      "Epoch 2 Batch 200 Val. Loss 0.0167\n",
      "Epoch 2 Batch 300 Val. Loss 0.0235\n",
      "Epoch 2 Batch 400 Val. Loss 0.0270\n",
      "Epoch 2 Batch 500 Val. Loss 0.0139\n",
      "Epoch 2 Batch 600 Val. Loss 0.0343\n",
      "Epoch 2 Loss 0.0259 -- Train Acc. 92.0000 -- Val Acc. 92.0000\n",
      "Time taken for 1 epoch 34.37694525718689 sec\n",
      "\n",
      "Epoch 3 Batch 0 Val. Loss 0.0124\n",
      "Epoch 3 Batch 100 Val. Loss 0.0145\n",
      "Epoch 3 Batch 200 Val. Loss 0.0563\n",
      "Epoch 3 Batch 300 Val. Loss 0.0197\n",
      "Epoch 3 Batch 400 Val. Loss 0.0135\n",
      "Epoch 3 Batch 500 Val. Loss 0.0130\n",
      "Epoch 3 Batch 600 Val. Loss 0.0192\n",
      "Epoch 3 Loss 0.0195 -- Train Acc. 93.0000 -- Val Acc. 92.0000\n",
      "Time taken for 1 epoch 34.4458863735199 sec\n",
      "\n",
      "Epoch 4 Batch 0 Val. Loss 0.0135\n",
      "Epoch 4 Batch 100 Val. Loss 0.0074\n",
      "Epoch 4 Batch 200 Val. Loss 0.0047\n",
      "Epoch 4 Batch 300 Val. Loss 0.0199\n",
      "Epoch 4 Batch 400 Val. Loss 0.0112\n",
      "Epoch 4 Batch 500 Val. Loss 0.0120\n",
      "Epoch 4 Batch 600 Val. Loss 0.0146\n",
      "Epoch 4 Loss 0.0173 -- Train Acc. 94.0000 -- Val Acc. 93.0000\n",
      "Time taken for 1 epoch 34.56674575805664 sec\n",
      "\n",
      "Epoch 5 Batch 0 Val. Loss 0.0414\n",
      "Epoch 5 Batch 100 Val. Loss 0.0251\n",
      "Epoch 5 Batch 200 Val. Loss 0.0104\n",
      "Epoch 5 Batch 300 Val. Loss 0.0083\n",
      "Epoch 5 Batch 400 Val. Loss 0.0228\n",
      "Epoch 5 Batch 500 Val. Loss 0.0107\n",
      "Epoch 5 Batch 600 Val. Loss 0.0162\n",
      "Epoch 5 Loss 0.0155 -- Train Acc. 95.0000 -- Val Acc. 93.0000\n",
      "Time taken for 1 epoch 34.731165647506714 sec\n",
      "\n",
      "Epoch 6 Batch 0 Val. Loss 0.0233\n",
      "Epoch 6 Batch 100 Val. Loss 0.0173\n",
      "Epoch 6 Batch 200 Val. Loss 0.0053\n",
      "Epoch 6 Batch 300 Val. Loss 0.0144\n",
      "Epoch 6 Batch 400 Val. Loss 0.0153\n",
      "Epoch 6 Batch 500 Val. Loss 0.0123\n",
      "Epoch 6 Batch 600 Val. Loss 0.0126\n",
      "Epoch 6 Loss 0.0136 -- Train Acc. 95.0000 -- Val Acc. 92.0000\n",
      "Time taken for 1 epoch 34.921738386154175 sec\n",
      "\n",
      "Epoch 7 Batch 0 Val. Loss 0.0120\n",
      "Epoch 7 Batch 100 Val. Loss 0.0099\n",
      "Epoch 7 Batch 200 Val. Loss 0.0182\n",
      "Epoch 7 Batch 300 Val. Loss 0.0014\n",
      "Epoch 7 Batch 400 Val. Loss 0.0099\n",
      "Epoch 7 Batch 500 Val. Loss 0.0082\n",
      "Epoch 7 Batch 600 Val. Loss 0.0143\n",
      "Epoch 7 Loss 0.0121 -- Train Acc. 96.0000 -- Val Acc. 92.0000\n",
      "Time taken for 1 epoch 35.01559138298035 sec\n",
      "\n",
      "Epoch 8 Batch 0 Val. Loss 0.0104\n",
      "Epoch 8 Batch 100 Val. Loss 0.0024\n",
      "Epoch 8 Batch 200 Val. Loss 0.0064\n",
      "Epoch 8 Batch 300 Val. Loss 0.0037\n",
      "Epoch 8 Batch 400 Val. Loss 0.0126\n",
      "Epoch 8 Batch 500 Val. Loss 0.0348\n",
      "Epoch 8 Batch 600 Val. Loss 0.0044\n",
      "Epoch 8 Loss 0.0115 -- Train Acc. 96.0000 -- Val Acc. 92.0000\n",
      "Time taken for 1 epoch 35.11315655708313 sec\n",
      "\n",
      "Epoch 9 Batch 0 Val. Loss 0.0055\n",
      "Epoch 9 Batch 100 Val. Loss 0.0106\n",
      "Epoch 9 Batch 200 Val. Loss 0.0021\n",
      "Epoch 9 Batch 300 Val. Loss 0.0133\n",
      "Epoch 9 Batch 400 Val. Loss 0.0057\n",
      "Epoch 9 Batch 500 Val. Loss 0.0116\n",
      "Epoch 9 Batch 600 Val. Loss 0.0033\n",
      "Epoch 9 Loss 0.0091 -- Train Acc. 97.0000 -- Val Acc. 92.0000\n",
      "Time taken for 1 epoch 35.217642307281494 sec\n",
      "\n",
      "Epoch 10 Batch 0 Val. Loss 0.0020\n",
      "Epoch 10 Batch 100 Val. Loss 0.0095\n",
      "Epoch 10 Batch 200 Val. Loss 0.0022\n",
      "Epoch 10 Batch 300 Val. Loss 0.0072\n",
      "Epoch 10 Batch 400 Val. Loss 0.0031\n",
      "Epoch 10 Batch 500 Val. Loss 0.0091\n",
      "Epoch 10 Batch 600 Val. Loss 0.0088\n",
      "Epoch 10 Loss 0.0082 -- Train Acc. 97.0000 -- Val Acc. 92.0000\n",
      "Time taken for 1 epoch 35.276575803756714 sec\n",
      "\n"
     ]
    }
   ],
   "source": [
    "EPOCHS = 10\n",
    "\n",
    "for epoch in range(EPOCHS):\n",
    "    start = time.time()\n",
    "    \n",
    "    ### Initialize hidden state\n",
    "    # TODO: do initialization here.\n",
    "    total_loss = 0\n",
    "    train_accuracy, val_accuracy = 0, 0\n",
    "    \n",
    "    ### Training\n",
    "    for (batch, (inp, targ, lens)) in enumerate(train_dataset):\n",
    "        loss = 0\n",
    "        predictions, _ = model(inp.permute(1 ,0).to(device), lens, device) # TODO:don't need _   \n",
    "              \n",
    "        loss += loss_function(targ.to(device), predictions)\n",
    "        batch_loss = (loss / int(targ.shape[1]))        \n",
    "        total_loss += batch_loss\n",
    "        \n",
    "        optimizer.zero_grad()\n",
    "        loss.backward()\n",
    "        optimizer.step()\n",
    "        \n",
    "        batch_accuracy = accuracy(targ.to(device), predictions)\n",
    "        train_accuracy += batch_accuracy\n",
    "        \n",
    "        if batch % 100 == 0:\n",
    "            print('Epoch {} Batch {} Val. Loss {:.4f}'.format(epoch + 1,\n",
    "                                                         batch,\n",
    "                                                         batch_loss.cpu().detach().numpy()))\n",
    "            \n",
    "    ### Validating\n",
    "    for (batch, (inp, targ, lens)) in enumerate(val_dataset):        \n",
    "        predictions,_ = model(inp.permute(1, 0).to(device), lens, device)        \n",
    "        batch_accuracy = accuracy(targ.to(device), predictions)\n",
    "        val_accuracy += batch_accuracy\n",
    "    \n",
    "    print('Epoch {} Loss {:.4f} -- Train Acc. {:.4f} -- Val Acc. {:.4f}'.format(epoch + 1, \n",
    "                                                             total_loss / TRAIN_N_BATCH, \n",
    "                                                             train_accuracy / TRAIN_N_BATCH,\n",
    "                                                             val_accuracy / VAL_N_BATCH))\n",
    "    print('Time taken for 1 epoch {} sec\\n'.format(time.time() - start))"
   ]
  },
  {
   "cell_type": "code",
   "execution_count": 36,
   "metadata": {},
   "outputs": [
    {
     "data": {
      "text/plain": [
       "<bound method Module.parameters of EmoGRU(\n",
       "  (embedding): Embedding(27267, 256)\n",
       "  (dropout): Dropout(p=0.5)\n",
       "  (gru): GRU(256, 1024)\n",
       "  (fc): Linear(in_features=1024, out_features=6, bias=True)\n",
       ")>"
      ]
     },
     "execution_count": 36,
     "metadata": {},
     "output_type": "execute_result"
    }
   ],
   "source": [
    "model.parameters"
   ]
  },
  {
   "cell_type": "markdown",
   "metadata": {},
   "source": [
    "## 6. Evaluation on the Testing Data\n",
    "Now we will evaluate the model with the holdout dataset."
   ]
  },
  {
   "cell_type": "code",
   "execution_count": 47,
   "metadata": {},
   "outputs": [
    {
     "name": "stdout",
     "output_type": "stream",
     "text": [
      "Test Accuracy:  92.35897435897436\n"
     ]
    }
   ],
   "source": [
    "test_accuracy = 0\n",
    "all_predictions = []\n",
    "x_raw = []\n",
    "y_raw = []\n",
    "\n",
    "device = \"cpu\" # we don't need GPU to do testing\n",
    "model.to(\"cpu\")\n",
    "\n",
    "for (batch, (inp, targ, lens)) in enumerate(test_dataset):          \n",
    "    predictions,_ = model(inp.permute(1, 0), lens, device)        \n",
    "    batch_accuracy = accuracy(targ, predictions)\n",
    "    test_accuracy += batch_accuracy\n",
    "    \n",
    "    x_raw = x_raw + [x for x in inp]\n",
    "    y_raw = y_raw + [y for y in targ]\n",
    "    \n",
    "    all_predictions.append(predictions)\n",
    "    \n",
    "print(\"Test Accuracy: \", test_accuracy.detach().numpy() / TEST_N_BATCH)"
   ]
  },
  {
   "cell_type": "markdown",
   "metadata": {},
   "source": [
    "### 6.1 Confusion Matrix\n",
    "The test accuracy alone is not an interesting performance metric in this case. Let's plot a confusion matrix to get a drilled down view of how the model is performing with regards to each emotion."
   ]
  },
  {
   "cell_type": "code",
   "execution_count": 60,
   "metadata": {},
   "outputs": [
    {
     "name": "stdout",
     "output_type": "stream",
     "text": [
      "Default Classification report\n",
      "             precision    recall  f1-score   support\n",
      "\n",
      "      anger       0.95      0.90      0.93       670\n",
      "       fear       0.89      0.88      0.88       554\n",
      "        joy       0.93      0.96      0.95      1689\n",
      "       love       0.87      0.77      0.82       420\n",
      "    sadness       0.96      0.98      0.97      1490\n",
      "   surprise       0.77      0.83      0.80       169\n",
      "\n",
      "avg / total       0.93      0.93      0.93      4992\n",
      "\n",
      "\n",
      "Accuracy:\n",
      "0.9278846153846154\n",
      "Correct Predictions:  4632\n",
      "precision: 0.90\n",
      "recall: 0.89\n",
      "f1: 0.89\n",
      "\n",
      "confusion matrix\n",
      " [[ 606   25    6    1   32    0]\n",
      " [  15  487    4    0   17   31]\n",
      " [   5    2 1617   45   11    9]\n",
      " [   0    0   90  325    5    0]\n",
      " [  12   16    5    0 1456    1]\n",
      " [   0   17    8    1    2  141]]\n",
      "(row=expected, col=predicted)\n"
     ]
    },
    {
     "data": {
      "image/png": "[encoded data removed]",
      "text/plain": [
       "<Figure size 400x400 with 2 Axes>"
      ]
     },
     "metadata": {},
     "output_type": "display_data"
    }
   ],
   "source": [
    "import helpers.evaluate as ev\n",
    "evaluator = ev.Evaluate()\n",
    "import pandas as pd\n",
    "\n",
    "final_predictions = []\n",
    "\n",
    "for p in all_predictions:\n",
    "    for sub_p in p:\n",
    "        final_predictions.append(sub_p.detach().numpy())\n",
    "        \n",
    "predictions = [np.argmax(p).item() for p in final_predictions]\n",
    "targets = [np.argmax(t).item() for t in y_raw]\n",
    "correct_predictions = float(np.sum(predictions == targets))\n",
    "\n",
    "# predictions\n",
    "predictions_human_readable = ((x_raw, predictions))\n",
    "# actual targets\n",
    "target_human_readable = ((x_raw,  targets))\n",
    "\n",
    "emotion_dict = {0: 'anger', 1: 'fear', 2: 'joy', 3: 'love', 4: 'sadness', 5: 'surprise'}\n",
    "\n",
    "# convert results into dataframe\n",
    "model_test_result = pd.DataFrame(predictions_human_readable[1],columns=[\"emotion\"])\n",
    "test = pd.DataFrame(target_human_readable[1], columns=[\"emotion\"])\n",
    "\n",
    "model_test_result.emotion = model_test_result.emotion.map(lambda x: emotion_dict[int(float(x))])\n",
    "test.emotion = test.emotion.map(lambda x: emotion_dict[int(x)])\n",
    "\n",
    "evaluator.evaluate_class(model_test_result.emotion, test.emotion );"
   ]
  },
  {
   "cell_type": "markdown",
   "metadata": {},
   "source": [
    "## Final Words\n",
    "You have learned how to perform neural-based emotion recognition using RNNs. There are many things you can do after you have completed this tutorial. You can attempt the exercises outlined in the \"Outline\" section of this notebook. You can also try other types of neural architectures such as LSTMs, Bi-LSTMS, attentions models, and CNNs. In addition, you can also store the models and conduct transfer learning to other emotion-related tasks. "
   ]
  },
  {
   "cell_type": "markdown",
   "metadata": {},
   "source": [
    "---"
   ]
  },
  {
   "cell_type": "markdown",
   "metadata": {},
   "source": [
    "## References\n",
    "- [Deep Learning for NLP](https://docs.google.com/presentation/d/1cf2H1qMvP1rdKUF5000ifOIRv1_b0bvj0ZTVL7-RaVE/edit?usp=sharing)\n",
    "- [PyTorch Autograd Tutorial](https://pytorch.org/tutorials/beginner/blitz/autograd_tutorial.html)\n",
    "- [A Simple Neural Network from Scratch with PyTorch and Google Colab](https://medium.com/dair-ai/a-simple-neural-network-from-scratch-with-pytorch-and-google-colab-c7f3830618e0)\n",
    "- [Building RNNs is Fun with PyTorch and Google Colab](https://medium.com/dair-ai/building-rnns-is-fun-with-pytorch-and-google-colab-3903ea9a3a79?source=collection_home---4------2---------------------)\n",
    "- [Deep Learning for NLP: An Overview of Recent Trends](https://medium.com/dair-ai/deep-learning-for-nlp-an-overview-of-recent-trends-d0d8f40a776d)"
   ]
  }
 ],
 "metadata": {
  "kernelspec": {
   "display_name": "Python 3",
   "language": "python",
   "name": "python3"
  },
  "language_info": {
   "codemirror_mode": {
    "name": "ipython",
    "version": 3
   },
   "file_extension": ".py",
   "mimetype": "text/x-python",
   "name": "python",
   "nbconvert_exporter": "python",
   "pygments_lexer": "ipython3",
   "version": "3.6.1"
  }
 },
 "nbformat": 4,
 "nbformat_minor": 2
}
